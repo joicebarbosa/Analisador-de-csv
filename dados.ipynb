{
 "cells": [
  {
   "cell_type": "code",
   "execution_count": 51,
   "metadata": {},
   "outputs": [],
   "source": [
    "import pandas as pd"
   ]
  },
  {
   "cell_type": "code",
   "execution_count": 52,
   "metadata": {},
   "outputs": [],
   "source": [
    "df = pd.read_csv(\"planilha.csv\")"
   ]
  },
  {
   "cell_type": "code",
   "execution_count": 53,
   "metadata": {},
   "outputs": [],
   "source": [
    "sum_sales = df.groupby([\"Date\"], as_index=False).sum()"
   ]
  },
  {
   "cell_type": "code",
   "execution_count": 54,
   "metadata": {},
   "outputs": [],
   "source": [
    "max_sales = sum_sales[ sum_sales['Sale'] == sum_sales['Sale'].max() ]\n",
    "\n",
    "max_sales_value = max_sales['Sale'].values[0]\n",
    "max_sales_date = max_sales['Date'].values[0]"
   ]
  },
  {
   "cell_type": "code",
   "execution_count": 55,
   "metadata": {},
   "outputs": [],
   "source": [
    "min_sales = sum_sales[ sum_sales['Sale'] == sum_sales['Sale'].min() ]\n",
    "\n",
    "min_sales_value = min_sales['Sale'].values[0]\n",
    "min_sales_date = min_sales['Date'].values[0]"
   ]
  },
  {
   "cell_type": "code",
   "execution_count": 56,
   "metadata": {},
   "outputs": [],
   "source": [
    "def value_analyser():\n",
    "    df = pd.read_csv(\"planilha.csv\")\n",
    "\n",
    "    sum_sales = df.groupby([\"Date\"], as_index=False).sum()\n",
    "\n",
    "    max_sales = sum_sales[ sum_sales['Sale'] == sum_sales['Sale'].max() ]\n",
    "    max_sales_value = max_sales['Sale'].values[0]\n",
    "    max_sales_date = max_sales['Date'].values[0]\n",
    "\n",
    "    min_sales = sum_sales[ sum_sales['Sale'] == sum_sales['Sale'].min() ]\n",
    "    min_sales_value = min_sales['Sale'].values[0]\n",
    "    min_sales_date = min_sales['Date'].values[0]\n",
    "\n",
    "    return [ [max_sales_value, max_sales_date], [min_sales_value, min_sales_date]   ]"
   ]
  },
  {
   "cell_type": "code",
   "execution_count": 57,
   "metadata": {},
   "outputs": [
    {
     "data": {
      "text/plain": [
       "[[225, '1/10/2021'], [70, '5/10/2021']]"
      ]
     },
     "execution_count": 57,
     "metadata": {},
     "output_type": "execute_result"
    }
   ],
   "source": [
    "value_analyser()"
   ]
  },
  {
   "cell_type": "code",
   "execution_count": 58,
   "metadata": {},
   "outputs": [
    {
     "data": {
      "text/html": [
       "<div>\n",
       "<style scoped>\n",
       "    .dataframe tbody tr th:only-of-type {\n",
       "        vertical-align: middle;\n",
       "    }\n",
       "\n",
       "    .dataframe tbody tr th {\n",
       "        vertical-align: top;\n",
       "    }\n",
       "\n",
       "    .dataframe thead th {\n",
       "        text-align: right;\n",
       "    }\n",
       "</style>\n",
       "<table border=\"1\" class=\"dataframe\">\n",
       "  <thead>\n",
       "    <tr style=\"text-align: right;\">\n",
       "      <th></th>\n",
       "      <th>Date</th>\n",
       "      <th>Sale</th>\n",
       "    </tr>\n",
       "  </thead>\n",
       "  <tbody>\n",
       "    <tr>\n",
       "      <th>0</th>\n",
       "      <td>1/10/2021</td>\n",
       "      <td>225</td>\n",
       "    </tr>\n",
       "    <tr>\n",
       "      <th>1</th>\n",
       "      <td>2/10/2021</td>\n",
       "      <td>150</td>\n",
       "    </tr>\n",
       "    <tr>\n",
       "      <th>2</th>\n",
       "      <td>3/10/2021</td>\n",
       "      <td>190</td>\n",
       "    </tr>\n",
       "    <tr>\n",
       "      <th>3</th>\n",
       "      <td>4/10/2021</td>\n",
       "      <td>140</td>\n",
       "    </tr>\n",
       "    <tr>\n",
       "      <th>4</th>\n",
       "      <td>5/10/2021</td>\n",
       "      <td>70</td>\n",
       "    </tr>\n",
       "  </tbody>\n",
       "</table>\n",
       "</div>"
      ],
      "text/plain": [
       "        Date  Sale\n",
       "0  1/10/2021   225\n",
       "1  2/10/2021   150\n",
       "2  3/10/2021   190\n",
       "3  4/10/2021   140\n",
       "4  5/10/2021    70"
      ]
     },
     "execution_count": 58,
     "metadata": {},
     "output_type": "execute_result"
    }
   ],
   "source": [
    "sum_sales"
   ]
  },
  {
   "cell_type": "code",
   "execution_count": 59,
   "metadata": {},
   "outputs": [],
   "source": [
    "df = pd.read_csv(\"planilha.csv\")\n",
    "\n",
    "count_sales = df.groupby([\"Date\"], as_index=False).count()\n",
    "\n",
    "max_sales = count_sales[ count_sales['Sale'] == count_sales['Sale'].max() ]\n",
    "max_sales_value = max_sales['Sale'].values[0]\n",
    "max_sales_date = max_sales['Date'].values[0]\n",
    "\n",
    "min_sales = count_sales[ count_sales['Sale'] == count_sales['Sale'].min() ]\n",
    "min_sales_value = min_sales['Sale'].values[0]\n",
    "min_sales_date = min_sales['Date'].values[0]\n"
   ]
  },
  {
   "cell_type": "code",
   "execution_count": 60,
   "metadata": {},
   "outputs": [],
   "source": [
    "def count_analyser():\n",
    "    df = pd.read_csv(\"planilha.csv\")\n",
    "\n",
    "    count_sales = df.groupby([\"Date\"], as_index=False).count()\n",
    "\n",
    "    max_sales = count_sales[ count_sales['Sale'] == count_sales['Sale'].max() ]\n",
    "    max_sales_value = max_sales['Sale'].values[0]\n",
    "    max_sales_date = max_sales['Date'].values[0]\n",
    "\n",
    "    min_sales = count_sales[ count_sales['Sale'] == count_sales['Sale'].min() ]\n",
    "    min_sales_value = min_sales['Sale'].values[0]\n",
    "    min_sales_date = min_sales['Date'].values[0]\n",
    "\n",
    "    return [ [max_sales_value, max_sales_date], [min_sales_value, min_sales_date]   ]"
   ]
  },
  {
   "cell_type": "code",
   "execution_count": 61,
   "metadata": {},
   "outputs": [
    {
     "data": {
      "text/plain": [
       "[[4, '5/10/2021'], [1, '4/10/2021']]"
      ]
     },
     "execution_count": 61,
     "metadata": {},
     "output_type": "execute_result"
    }
   ],
   "source": [
    "count_analyser()"
   ]
  },
  {
   "cell_type": "code",
   "execution_count": 62,
   "metadata": {},
   "outputs": [
    {
     "data": {
      "text/plain": [
       "(4, '5/10/2021')"
      ]
     },
     "execution_count": 62,
     "metadata": {},
     "output_type": "execute_result"
    }
   ],
   "source": [
    "max_sales_value, max_sales_date"
   ]
  },
  {
   "cell_type": "code",
   "execution_count": 63,
   "metadata": {},
   "outputs": [
    {
     "data": {
      "text/plain": [
       "(1, '4/10/2021')"
      ]
     },
     "execution_count": 63,
     "metadata": {},
     "output_type": "execute_result"
    }
   ],
   "source": [
    "min_sales_value, min_sales_date"
   ]
  },
  {
   "cell_type": "code",
   "execution_count": 64,
   "metadata": {},
   "outputs": [
    {
     "data": {
      "text/html": [
       "<div>\n",
       "<style scoped>\n",
       "    .dataframe tbody tr th:only-of-type {\n",
       "        vertical-align: middle;\n",
       "    }\n",
       "\n",
       "    .dataframe tbody tr th {\n",
       "        vertical-align: top;\n",
       "    }\n",
       "\n",
       "    .dataframe thead th {\n",
       "        text-align: right;\n",
       "    }\n",
       "</style>\n",
       "<table border=\"1\" class=\"dataframe\">\n",
       "  <thead>\n",
       "    <tr style=\"text-align: right;\">\n",
       "      <th></th>\n",
       "      <th>Date</th>\n",
       "      <th>Sale</th>\n",
       "    </tr>\n",
       "  </thead>\n",
       "  <tbody>\n",
       "    <tr>\n",
       "      <th>0</th>\n",
       "      <td>1/10/2021</td>\n",
       "      <td>3</td>\n",
       "    </tr>\n",
       "    <tr>\n",
       "      <th>1</th>\n",
       "      <td>2/10/2021</td>\n",
       "      <td>3</td>\n",
       "    </tr>\n",
       "    <tr>\n",
       "      <th>2</th>\n",
       "      <td>3/10/2021</td>\n",
       "      <td>2</td>\n",
       "    </tr>\n",
       "    <tr>\n",
       "      <th>3</th>\n",
       "      <td>4/10/2021</td>\n",
       "      <td>1</td>\n",
       "    </tr>\n",
       "    <tr>\n",
       "      <th>4</th>\n",
       "      <td>5/10/2021</td>\n",
       "      <td>4</td>\n",
       "    </tr>\n",
       "  </tbody>\n",
       "</table>\n",
       "</div>"
      ],
      "text/plain": [
       "        Date  Sale\n",
       "0  1/10/2021     3\n",
       "1  2/10/2021     3\n",
       "2  3/10/2021     2\n",
       "3  4/10/2021     1\n",
       "4  5/10/2021     4"
      ]
     },
     "execution_count": 64,
     "metadata": {},
     "output_type": "execute_result"
    }
   ],
   "source": [
    "count_sales"
   ]
  },
  {
   "cell_type": "code",
   "execution_count": null,
   "metadata": {},
   "outputs": [],
   "source": []
  }
 ],
 "metadata": {
  "interpreter": {
   "hash": "513dc2e41d739bb2c947903f3c0bbf636d03aa53ab50e61c694a27481c81805e"
  },
  "kernelspec": {
   "display_name": "Python 3.8.5 64-bit ('base': conda)",
   "language": "python",
   "name": "python3"
  },
  "language_info": {
   "codemirror_mode": {
    "name": "ipython",
    "version": 3
   },
   "file_extension": ".py",
   "mimetype": "text/x-python",
   "name": "python",
   "nbconvert_exporter": "python",
   "pygments_lexer": "ipython3",
   "version": "3.8.5"
  },
  "orig_nbformat": 4
 },
 "nbformat": 4,
 "nbformat_minor": 2
}
